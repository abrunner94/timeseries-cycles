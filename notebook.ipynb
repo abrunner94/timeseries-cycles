{
 "cells": [
  {
   "cell_type": "markdown",
   "source": [
    "# Timeseries Cycle Predictions\n",
    "\n",
    "The goal of this notebook is to show how regression models can be used to predict the next \"cycle\" within a timeseries dataset.\n",
    "The data being used has been generated randomly, but you are free to modify the `generate_synthetic_data` function or incorporate your own data set.\n"
   ],
   "metadata": {
    "collapsed": false
   },
   "id": "abfac50bc59e289e"
  },
  {
   "cell_type": "code",
   "execution_count": 481,
   "outputs": [],
   "source": [
    "import pandas as pd\n",
    "import numpy as np\n",
    "from datetime import timedelta"
   ],
   "metadata": {
    "collapsed": false,
    "ExecuteTime": {
     "end_time": "2023-08-24T01:44:01.374223Z",
     "start_time": "2023-08-24T01:44:01.338516Z"
    }
   },
   "id": "714346af7184c61f"
  },
  {
   "cell_type": "markdown",
   "source": [
    "## Generate synthetic data"
   ],
   "metadata": {
    "collapsed": false
   },
   "id": "1c1b8c9ab7a70ae4"
  },
  {
   "cell_type": "code",
   "execution_count": 482,
   "outputs": [],
   "source": [
    "# Seed\n",
    "np.random.seed(42)\n",
    "\n",
    "def generate_synthetic_data(num_users=10000):\n",
    "    user_ids = []\n",
    "    start_dates = []\n",
    "    end_dates = []\n",
    "    \n",
    "    # Generate random user IDs\n",
    "    unique_user_ids = np.random.choice(range(100000, 999999), num_users, replace=False)\n",
    "    # Generate random number of cycles for each user between 10 and 50\n",
    "    cycles_per_user = np.random.randint(10, 50, num_users)\n",
    "    start_date = pd.to_datetime('2023-01-01')\n",
    "    \n",
    "    for idx, user in enumerate(unique_user_ids):\n",
    "        cycle_start = start_date + timedelta(days=np.random.randint(7, 30))\n",
    "        for cycle in range(cycles_per_user[idx]):\n",
    "            # Generate a random start date for the first cycle and then subsequent cycles\n",
    "            if cycle != 0:\n",
    "                cycle_start += timedelta(days=np.random.randint(21, 35))  # Random gap between cycles\n",
    "\n",
    "            # Generate end date based on start date and random cycle length (let's say between 4 to 21 days)\n",
    "            cycle_end = cycle_start + timedelta(days=np.random.randint(4, 21))\n",
    "            \n",
    "            user_ids.append(user)\n",
    "            start_dates.append(cycle_start)\n",
    "            end_dates.append(cycle_end)\n",
    "            \n",
    "    return pd.DataFrame({\n",
    "        'USER_ID': user_ids,\n",
    "        'START_TIME': start_dates,\n",
    "        'END_TIME': end_dates\n",
    "    })\n"
   ],
   "metadata": {
    "collapsed": false,
    "ExecuteTime": {
     "end_time": "2023-08-24T01:44:01.377952Z",
     "start_time": "2023-08-24T01:44:01.344104Z"
    }
   },
   "id": "44345a05a5c2a8df"
  },
  {
   "cell_type": "code",
   "execution_count": 483,
   "outputs": [
    {
     "data": {
      "text/plain": "   USER_ID START_TIME   END_TIME\n0   924197 2023-01-25 2023-02-04\n1   924197 2023-02-16 2023-02-26\n2   924197 2023-03-14 2023-03-25\n3   924197 2023-04-15 2023-04-30\n4   924197 2023-05-07 2023-05-20",
      "text/html": "<div>\n<style scoped>\n    .dataframe tbody tr th:only-of-type {\n        vertical-align: middle;\n    }\n\n    .dataframe tbody tr th {\n        vertical-align: top;\n    }\n\n    .dataframe thead th {\n        text-align: right;\n    }\n</style>\n<table border=\"1\" class=\"dataframe\">\n  <thead>\n    <tr style=\"text-align: right;\">\n      <th></th>\n      <th>USER_ID</th>\n      <th>START_TIME</th>\n      <th>END_TIME</th>\n    </tr>\n  </thead>\n  <tbody>\n    <tr>\n      <th>0</th>\n      <td>924197</td>\n      <td>2023-01-25</td>\n      <td>2023-02-04</td>\n    </tr>\n    <tr>\n      <th>1</th>\n      <td>924197</td>\n      <td>2023-02-16</td>\n      <td>2023-02-26</td>\n    </tr>\n    <tr>\n      <th>2</th>\n      <td>924197</td>\n      <td>2023-03-14</td>\n      <td>2023-03-25</td>\n    </tr>\n    <tr>\n      <th>3</th>\n      <td>924197</td>\n      <td>2023-04-15</td>\n      <td>2023-04-30</td>\n    </tr>\n    <tr>\n      <th>4</th>\n      <td>924197</td>\n      <td>2023-05-07</td>\n      <td>2023-05-20</td>\n    </tr>\n  </tbody>\n</table>\n</div>"
     },
     "execution_count": 483,
     "metadata": {},
     "output_type": "execute_result"
    }
   ],
   "source": [
    "df = generate_synthetic_data()\n",
    "df.head()"
   ],
   "metadata": {
    "collapsed": false,
    "ExecuteTime": {
     "end_time": "2023-08-24T01:44:04.734645Z",
     "start_time": "2023-08-24T01:44:01.389958Z"
    }
   },
   "id": "40f269bdf170a4ac"
  },
  {
   "cell_type": "code",
   "execution_count": 484,
   "outputs": [
    {
     "data": {
      "text/plain": "10000"
     },
     "execution_count": 484,
     "metadata": {},
     "output_type": "execute_result"
    }
   ],
   "source": [
    "df['USER_ID'].nunique()"
   ],
   "metadata": {
    "collapsed": false,
    "ExecuteTime": {
     "end_time": "2023-08-24T01:44:04.738368Z",
     "start_time": "2023-08-24T01:44:04.733504Z"
    }
   },
   "id": "5905d1ac8976ca6a"
  },
  {
   "cell_type": "code",
   "execution_count": 485,
   "outputs": [],
   "source": [
    "# Add day delta between start_time and end_time\n",
    "df['DURATION_DAYS'] = (df['END_TIME'] - df['START_TIME']).dt.days"
   ],
   "metadata": {
    "collapsed": false,
    "ExecuteTime": {
     "end_time": "2023-08-24T01:44:04.743363Z",
     "start_time": "2023-08-24T01:44:04.738249Z"
    }
   },
   "id": "8e5fb947a5ab84f6"
  },
  {
   "cell_type": "code",
   "execution_count": 486,
   "outputs": [
    {
     "data": {
      "text/plain": "   USER_ID START_TIME   END_TIME  DURATION_DAYS\n0   924197 2023-01-25 2023-02-04             10\n1   924197 2023-02-16 2023-02-26             10\n2   924197 2023-03-14 2023-03-25             11\n3   924197 2023-04-15 2023-04-30             15\n4   924197 2023-05-07 2023-05-20             13",
      "text/html": "<div>\n<style scoped>\n    .dataframe tbody tr th:only-of-type {\n        vertical-align: middle;\n    }\n\n    .dataframe tbody tr th {\n        vertical-align: top;\n    }\n\n    .dataframe thead th {\n        text-align: right;\n    }\n</style>\n<table border=\"1\" class=\"dataframe\">\n  <thead>\n    <tr style=\"text-align: right;\">\n      <th></th>\n      <th>USER_ID</th>\n      <th>START_TIME</th>\n      <th>END_TIME</th>\n      <th>DURATION_DAYS</th>\n    </tr>\n  </thead>\n  <tbody>\n    <tr>\n      <th>0</th>\n      <td>924197</td>\n      <td>2023-01-25</td>\n      <td>2023-02-04</td>\n      <td>10</td>\n    </tr>\n    <tr>\n      <th>1</th>\n      <td>924197</td>\n      <td>2023-02-16</td>\n      <td>2023-02-26</td>\n      <td>10</td>\n    </tr>\n    <tr>\n      <th>2</th>\n      <td>924197</td>\n      <td>2023-03-14</td>\n      <td>2023-03-25</td>\n      <td>11</td>\n    </tr>\n    <tr>\n      <th>3</th>\n      <td>924197</td>\n      <td>2023-04-15</td>\n      <td>2023-04-30</td>\n      <td>15</td>\n    </tr>\n    <tr>\n      <th>4</th>\n      <td>924197</td>\n      <td>2023-05-07</td>\n      <td>2023-05-20</td>\n      <td>13</td>\n    </tr>\n  </tbody>\n</table>\n</div>"
     },
     "execution_count": 486,
     "metadata": {},
     "output_type": "execute_result"
    }
   ],
   "source": [
    "df.head()"
   ],
   "metadata": {
    "collapsed": false,
    "ExecuteTime": {
     "end_time": "2023-08-24T01:44:04.750514Z",
     "start_time": "2023-08-24T01:44:04.745481Z"
    }
   },
   "id": "d717d2f98fdfca6f"
  },
  {
   "cell_type": "markdown",
   "source": [
    "## Exploratory Data Analysis"
   ],
   "metadata": {
    "collapsed": false
   },
   "id": "b39db0f661f1c884"
  },
  {
   "cell_type": "code",
   "execution_count": 487,
   "outputs": [],
   "source": [
    "import seaborn as sns"
   ],
   "metadata": {
    "collapsed": false,
    "ExecuteTime": {
     "end_time": "2023-08-24T01:44:04.750616Z",
     "start_time": "2023-08-24T01:44:04.748132Z"
    }
   },
   "id": "91757ea7863cc0a1"
  },
  {
   "cell_type": "code",
   "execution_count": 488,
   "outputs": [
    {
     "data": {
      "text/plain": "DURATION_DAYS\n17    17480\n9     17437\n14    17391\n5     17390\n7     17324\n15    17308\n10    17248\n4     17203\n19    17183\n16    17153\n12    17147\n11    17139\n8     17130\n6     17112\n13    17109\n18    17077\n20    16935\nName: count, dtype: int64"
     },
     "execution_count": 488,
     "metadata": {},
     "output_type": "execute_result"
    }
   ],
   "source": [
    "df['DURATION_DAYS'].value_counts()"
   ],
   "metadata": {
    "collapsed": false,
    "ExecuteTime": {
     "end_time": "2023-08-24T01:44:04.767317Z",
     "start_time": "2023-08-24T01:44:04.752173Z"
    }
   },
   "id": "50532509e7c2db18"
  },
  {
   "cell_type": "code",
   "execution_count": 489,
   "outputs": [
    {
     "data": {
      "text/plain": "<Axes: xlabel='DURATION_DAYS', ylabel='Count'>"
     },
     "execution_count": 489,
     "metadata": {},
     "output_type": "execute_result"
    },
    {
     "data": {
      "text/plain": "<Figure size 640x480 with 1 Axes>",
      "image/png": "[encoded data removed]"
     },
     "metadata": {},
     "output_type": "display_data"
    }
   ],
   "source": [
    "sns.histplot(df['DURATION_DAYS'], kde=False, bins=30)"
   ],
   "metadata": {
    "collapsed": false,
    "ExecuteTime": {
     "end_time": "2023-08-24T01:44:04.942282Z",
     "start_time": "2023-08-24T01:44:04.755154Z"
    }
   },
   "id": "6424bb5d2faa85f5"
  },
  {
   "cell_type": "code",
   "execution_count": 490,
   "outputs": [
    {
     "data": {
      "text/plain": "       DURATION_DAYS\ncount  292766.000000\nmean       11.989541\nstd         4.894605\nmin         4.000000\n25%         8.000000\n50%        12.000000\n75%        16.000000\nmax        20.000000",
      "text/html": "<div>\n<style scoped>\n    .dataframe tbody tr th:only-of-type {\n        vertical-align: middle;\n    }\n\n    .dataframe tbody tr th {\n        vertical-align: top;\n    }\n\n    .dataframe thead th {\n        text-align: right;\n    }\n</style>\n<table border=\"1\" class=\"dataframe\">\n  <thead>\n    <tr style=\"text-align: right;\">\n      <th></th>\n      <th>DURATION_DAYS</th>\n    </tr>\n  </thead>\n  <tbody>\n    <tr>\n      <th>count</th>\n      <td>292766.000000</td>\n    </tr>\n    <tr>\n      <th>mean</th>\n      <td>11.989541</td>\n    </tr>\n    <tr>\n      <th>std</th>\n      <td>4.894605</td>\n    </tr>\n    <tr>\n      <th>min</th>\n      <td>4.000000</td>\n    </tr>\n    <tr>\n      <th>25%</th>\n      <td>8.000000</td>\n    </tr>\n    <tr>\n      <th>50%</th>\n      <td>12.000000</td>\n    </tr>\n    <tr>\n      <th>75%</th>\n      <td>16.000000</td>\n    </tr>\n    <tr>\n      <th>max</th>\n      <td>20.000000</td>\n    </tr>\n  </tbody>\n</table>\n</div>"
     },
     "execution_count": 490,
     "metadata": {},
     "output_type": "execute_result"
    }
   ],
   "source": [
    "df[['DURATION_DAYS']].describe()"
   ],
   "metadata": {
    "collapsed": false,
    "ExecuteTime": {
     "end_time": "2023-08-24T01:44:04.955041Z",
     "start_time": "2023-08-24T01:44:04.943636Z"
    }
   },
   "id": "ec60bc35928b08ca"
  },
  {
   "cell_type": "markdown",
   "source": [
    "## Feature Engineering\n",
    "In this section, I am adding a simple feature for \"day of week\", such as weekend or weekday. "
   ],
   "metadata": {
    "collapsed": false
   },
   "id": "f4e84e5806d6b000"
  },
  {
   "cell_type": "code",
   "execution_count": 491,
   "outputs": [
    {
     "data": {
      "text/plain": "   USER_ID START_TIME   END_TIME  DURATION_DAYS  START_TIME_DAY_TYPE  \\\n0   924197 2023-01-25 2023-02-04             10                    0   \n1   924197 2023-02-16 2023-02-26             10                    0   \n2   924197 2023-03-14 2023-03-25             11                    0   \n3   924197 2023-04-15 2023-04-30             15                    1   \n4   924197 2023-05-07 2023-05-20             13                    1   \n\n   END_TIME_DAY_TYPE PREV_CYCLE_END_TIME  DAYS_SINCE_LAST_CYCLE  GAP_TO_NEXT  \n0                  1                 NaT                    NaN         12.0  \n1                  1          2023-02-04                   12.0         16.0  \n2                  1          2023-02-26                   16.0         21.0  \n3                  1          2023-03-25                   21.0          7.0  \n4                  1          2023-04-30                    7.0         19.0  ",
      "text/html": "<div>\n<style scoped>\n    .dataframe tbody tr th:only-of-type {\n        vertical-align: middle;\n    }\n\n    .dataframe tbody tr th {\n        vertical-align: top;\n    }\n\n    .dataframe thead th {\n        text-align: right;\n    }\n</style>\n<table border=\"1\" class=\"dataframe\">\n  <thead>\n    <tr style=\"text-align: right;\">\n      <th></th>\n      <th>USER_ID</th>\n      <th>START_TIME</th>\n      <th>END_TIME</th>\n      <th>DURATION_DAYS</th>\n      <th>START_TIME_DAY_TYPE</th>\n      <th>END_TIME_DAY_TYPE</th>\n      <th>PREV_CYCLE_END_TIME</th>\n      <th>DAYS_SINCE_LAST_CYCLE</th>\n      <th>GAP_TO_NEXT</th>\n    </tr>\n  </thead>\n  <tbody>\n    <tr>\n      <th>0</th>\n      <td>924197</td>\n      <td>2023-01-25</td>\n      <td>2023-02-04</td>\n      <td>10</td>\n      <td>0</td>\n      <td>1</td>\n      <td>NaT</td>\n      <td>NaN</td>\n      <td>12.0</td>\n    </tr>\n    <tr>\n      <th>1</th>\n      <td>924197</td>\n      <td>2023-02-16</td>\n      <td>2023-02-26</td>\n      <td>10</td>\n      <td>0</td>\n      <td>1</td>\n      <td>2023-02-04</td>\n      <td>12.0</td>\n      <td>16.0</td>\n    </tr>\n    <tr>\n      <th>2</th>\n      <td>924197</td>\n      <td>2023-03-14</td>\n      <td>2023-03-25</td>\n      <td>11</td>\n      <td>0</td>\n      <td>1</td>\n      <td>2023-02-26</td>\n      <td>16.0</td>\n      <td>21.0</td>\n    </tr>\n    <tr>\n      <th>3</th>\n      <td>924197</td>\n      <td>2023-04-15</td>\n      <td>2023-04-30</td>\n      <td>15</td>\n      <td>1</td>\n      <td>1</td>\n      <td>2023-03-25</td>\n      <td>21.0</td>\n      <td>7.0</td>\n    </tr>\n    <tr>\n      <th>4</th>\n      <td>924197</td>\n      <td>2023-05-07</td>\n      <td>2023-05-20</td>\n      <td>13</td>\n      <td>1</td>\n      <td>1</td>\n      <td>2023-04-30</td>\n      <td>7.0</td>\n      <td>19.0</td>\n    </tr>\n  </tbody>\n</table>\n</div>"
     },
     "execution_count": 491,
     "metadata": {},
     "output_type": "execute_result"
    }
   ],
   "source": [
    "df['START_TIME_DAY_TYPE'] = df['START_TIME'].dt.dayofweek.apply(lambda x: 0 if x < 5 else 1)\n",
    "df['END_TIME_DAY_TYPE'] = df['END_TIME'].dt.dayofweek.apply(lambda x: 0 if x < 5 else 1)\n",
    "\n",
    "df['PREV_CYCLE_END_TIME'] = df.groupby('USER_ID')['END_TIME'].shift(1)\n",
    "df['DAYS_SINCE_LAST_CYCLE'] = abs(df['PREV_CYCLE_END_TIME'] - df['START_TIME']).dt.days\n",
    "df['GAP_TO_NEXT'] = df['DAYS_SINCE_LAST_CYCLE'].shift(-1)\n",
    "\n",
    "df.head()"
   ],
   "metadata": {
    "collapsed": false,
    "ExecuteTime": {
     "end_time": "2023-08-24T01:44:05.082150Z",
     "start_time": "2023-08-24T01:44:04.954401Z"
    }
   },
   "id": "74895ecbc0001a7d"
  },
  {
   "cell_type": "code",
   "execution_count": 492,
   "outputs": [
    {
     "data": {
      "text/plain": "<Axes: xlabel='DAYS_SINCE_LAST_CYCLE', ylabel='Count'>"
     },
     "execution_count": 492,
     "metadata": {},
     "output_type": "execute_result"
    },
    {
     "data": {
      "text/plain": "<Figure size 640x480 with 1 Axes>",
      "image/png": "[encoded data removed]"
     },
     "metadata": {},
     "output_type": "display_data"
    }
   ],
   "source": [
    "sns.histplot(data=df, x=df['DAYS_SINCE_LAST_CYCLE'], kde=False)"
   ],
   "metadata": {
    "collapsed": false,
    "ExecuteTime": {
     "end_time": "2023-08-24T01:44:05.273389Z",
     "start_time": "2023-08-24T01:44:05.080369Z"
    }
   },
   "id": "37dad7c9569c6524"
  },
  {
   "cell_type": "markdown",
   "source": [
    "## Predict next cycle start date"
   ],
   "metadata": {
    "collapsed": false
   },
   "id": "99b623f6cfc9ea78"
  },
  {
   "cell_type": "code",
   "execution_count": 493,
   "outputs": [],
   "source": [
    "from sklearn.model_selection import train_test_split\n",
    "from sklearn.ensemble import GradientBoostingRegressor\n",
    "from sklearn.metrics import mean_absolute_error"
   ],
   "metadata": {
    "collapsed": false,
    "ExecuteTime": {
     "end_time": "2023-08-24T01:44:05.278068Z",
     "start_time": "2023-08-24T01:44:05.273490Z"
    }
   },
   "id": "5043303d2fb88c6e"
  },
  {
   "cell_type": "markdown",
   "source": [
    "### Make it production-ready"
   ],
   "metadata": {
    "collapsed": false
   },
   "id": "c799d4e9ac6a6442"
  },
  {
   "cell_type": "code",
   "execution_count": 494,
   "outputs": [],
   "source": [
    "import pickle\n",
    "\n",
    "def create_and_save_model(df, filename=\"model/model_cycle_prediction.pk\"):\n",
    "    # Remove rows with NaN values in the target column\n",
    "    df.dropna(subset=['GAP_TO_NEXT', 'DAYS_SINCE_LAST_CYCLE', 'PREV_CYCLE_END_TIME'], inplace=True)\n",
    "\n",
    "    # Features and target\n",
    "    X = df[['DURATION_DAYS', 'START_TIME_DAY_TYPE', 'END_TIME_DAY_TYPE', 'DAYS_SINCE_LAST_CYCLE']]\n",
    "    y = df['GAP_TO_NEXT']\n",
    "\n",
    "    # Split data\n",
    "    X_train, X_test, y_train, y_test = train_test_split(X, y, test_size=0.2, random_state=42)\n",
    "\n",
    "    # Initialize and train model\n",
    "    model = GradientBoostingRegressor(n_estimators=100, random_state=42)\n",
    "    model.fit(X_train, y_train)\n",
    "\n",
    "    # Predict on test set\n",
    "    y_pred = model.predict(X_test)\n",
    "\n",
    "    # Calculate error\n",
    "    error = mean_absolute_error(y_test, y_pred)\n",
    "    print(f\"Mean Absolute Error in predicting gap to next cycle start: {error} days, or {int(error)} days rounded\")\n",
    "\n",
    "    # Pickle the trained model\n",
    "    with open(filename, 'wb') as file:\n",
    "        pickle.dump(model, file)\n",
    "\n",
    "    return filename\n"
   ],
   "metadata": {
    "collapsed": false,
    "ExecuteTime": {
     "end_time": "2023-08-24T01:44:05.283205Z",
     "start_time": "2023-08-24T01:44:05.278145Z"
    }
   },
   "id": "72cbc50034e5287c"
  },
  {
   "cell_type": "code",
   "execution_count": 495,
   "outputs": [],
   "source": [
    "def predict_next_cycle_start(user_id, model_path, df):\n",
    "    # Load the pickled model\n",
    "    with open(model_path, 'rb') as file:\n",
    "        model = pickle.load(file)\n",
    "\n",
    "    # Extract the most recent cycle data for the user\n",
    "    user_data = df[df['USER_ID'] == user_id]\n",
    "    most_recent_data = user_data.iloc[-1]\n",
    "\n",
    "    # Prepare this data in the same format as used for training\n",
    "    X_single = most_recent_data[['DURATION_DAYS', 'START_TIME_DAY_TYPE', 'END_TIME_DAY_TYPE', 'DAYS_SINCE_LAST_CYCLE']]\n",
    "\n",
    "    # Predict the gap to the next cycle start\n",
    "    predicted_gap = model.predict([X_single])\n",
    "\n",
    "    # Calculate the predicted start date for the next cycle\n",
    "    predicted_start_date = pd.to_datetime(most_recent_data['END_TIME']) + pd.Timedelta(days=int(predicted_gap[0]))\n",
    "\n",
    "    return predicted_start_date\n"
   ],
   "metadata": {
    "collapsed": false,
    "ExecuteTime": {
     "end_time": "2023-08-24T01:44:05.283320Z",
     "start_time": "2023-08-24T01:44:05.280796Z"
    }
   },
   "id": "1b95d688825ccf76"
  },
  {
   "cell_type": "markdown",
   "source": [
    "## Test model"
   ],
   "metadata": {
    "collapsed": false
   },
   "id": "8f5d3d6201851d31"
  },
  {
   "cell_type": "code",
   "execution_count": 496,
   "outputs": [
    {
     "name": "stdout",
     "output_type": "stream",
     "text": [
      "Mean Absolute Error in predicting gap to next cycle start: 3.4903614351812156 days, or 3 days rounded\n"
     ]
    }
   ],
   "source": [
    "model_path = create_and_save_model(df)"
   ],
   "metadata": {
    "collapsed": false,
    "ExecuteTime": {
     "end_time": "2023-08-24T01:44:09.754522Z",
     "start_time": "2023-08-24T01:44:05.284708Z"
    }
   },
   "id": "67d48dedad099dd1"
  },
  {
   "cell_type": "code",
   "execution_count": 497,
   "outputs": [
    {
     "data": {
      "text/plain": "219504"
     },
     "execution_count": 497,
     "metadata": {},
     "output_type": "execute_result"
    }
   ],
   "source": [
    "# Pick a user\n",
    "random_user = df.sample()['USER_ID'].values[0]\n",
    "random_user"
   ],
   "metadata": {
    "collapsed": false,
    "ExecuteTime": {
     "end_time": "2023-08-24T01:44:09.761176Z",
     "start_time": "2023-08-24T01:44:09.756819Z"
    }
   },
   "id": "cb0a745146d6434b"
  },
  {
   "cell_type": "code",
   "execution_count": 498,
   "outputs": [
    {
     "data": {
      "text/plain": "       USER_ID START_TIME   END_TIME  DURATION_DAYS  START_TIME_DAY_TYPE  \\\n95415   219504 2023-02-19 2023-03-04             13                    1   \n95416   219504 2023-03-19 2023-04-07             19                    1   \n95417   219504 2023-04-12 2023-04-22             10                    0   \n95418   219504 2023-05-03 2023-05-15             12                    0   \n95419   219504 2023-05-25 2023-06-13             19                    0   \n95420   219504 2023-06-20 2023-06-29              9                    0   \n95421   219504 2023-07-19 2023-08-05             17                    0   \n95422   219504 2023-08-22 2023-09-01             10                    0   \n95423   219504 2023-09-16 2023-09-22              6                    1   \n95424   219504 2023-10-09 2023-10-15              6                    0   \n95425   219504 2023-10-31 2023-11-18             18                    0   \n95426   219504 2023-11-23 2023-12-08             15                    0   \n95427   219504 2023-12-23 2024-01-05             13                    1   \n95428   219504 2024-01-16 2024-01-23              7                    0   \n95429   219504 2024-02-12 2024-02-17              5                    0   \n95430   219504 2024-03-16 2024-03-27             11                    1   \n95431   219504 2024-04-10 2024-04-19              9                    0   \n95432   219504 2024-05-11 2024-05-30             19                    1   \n95433   219504 2024-06-07 2024-06-17             10                    0   \n95434   219504 2024-07-05 2024-07-22             17                    0   \n95435   219504 2024-08-02 2024-08-21             19                    0   \n95436   219504 2024-08-27 2024-09-02              6                    0   \n95437   219504 2024-09-20 2024-09-26              6                    0   \n95438   219504 2024-10-21 2024-10-26              5                    0   \n95439   219504 2024-11-19 2024-11-27              8                    0   \n\n       END_TIME_DAY_TYPE PREV_CYCLE_END_TIME  DAYS_SINCE_LAST_CYCLE  \\\n95415                  1          2023-02-02                   17.0   \n95416                  0          2023-03-04                   15.0   \n95417                  1          2023-04-07                    5.0   \n95418                  0          2023-04-22                   11.0   \n95419                  0          2023-05-15                   10.0   \n95420                  0          2023-06-13                    7.0   \n95421                  1          2023-06-29                   20.0   \n95422                  0          2023-08-05                   17.0   \n95423                  0          2023-09-01                   15.0   \n95424                  1          2023-09-22                   17.0   \n95425                  1          2023-10-15                   16.0   \n95426                  0          2023-11-18                    5.0   \n95427                  0          2023-12-08                   15.0   \n95428                  0          2024-01-05                   11.0   \n95429                  1          2024-01-23                   20.0   \n95430                  0          2024-02-17                   28.0   \n95431                  0          2024-03-27                   14.0   \n95432                  0          2024-04-19                   22.0   \n95433                  0          2024-05-30                    8.0   \n95434                  0          2024-06-17                   18.0   \n95435                  0          2024-07-22                   11.0   \n95436                  0          2024-08-21                    6.0   \n95437                  0          2024-09-02                   18.0   \n95438                  1          2024-09-26                   25.0   \n95439                  0          2024-10-26                   24.0   \n\n       GAP_TO_NEXT  \n95415         15.0  \n95416          5.0  \n95417         11.0  \n95418         10.0  \n95419          7.0  \n95420         20.0  \n95421         17.0  \n95422         15.0  \n95423         17.0  \n95424         16.0  \n95425          5.0  \n95426         15.0  \n95427         11.0  \n95428         20.0  \n95429         28.0  \n95430         14.0  \n95431         22.0  \n95432          8.0  \n95433         18.0  \n95434         11.0  \n95435          6.0  \n95436         18.0  \n95437         25.0  \n95438         24.0  \n95439         16.0  ",
      "text/html": "<div>\n<style scoped>\n    .dataframe tbody tr th:only-of-type {\n        vertical-align: middle;\n    }\n\n    .dataframe tbody tr th {\n        vertical-align: top;\n    }\n\n    .dataframe thead th {\n        text-align: right;\n    }\n</style>\n<table border=\"1\" class=\"dataframe\">\n  <thead>\n    <tr style=\"text-align: right;\">\n      <th></th>\n      <th>USER_ID</th>\n      <th>START_TIME</th>\n      <th>END_TIME</th>\n      <th>DURATION_DAYS</th>\n      <th>START_TIME_DAY_TYPE</th>\n      <th>END_TIME_DAY_TYPE</th>\n      <th>PREV_CYCLE_END_TIME</th>\n      <th>DAYS_SINCE_LAST_CYCLE</th>\n      <th>GAP_TO_NEXT</th>\n    </tr>\n  </thead>\n  <tbody>\n    <tr>\n      <th>95415</th>\n      <td>219504</td>\n      <td>2023-02-19</td>\n      <td>2023-03-04</td>\n      <td>13</td>\n      <td>1</td>\n      <td>1</td>\n      <td>2023-02-02</td>\n      <td>17.0</td>\n      <td>15.0</td>\n    </tr>\n    <tr>\n      <th>95416</th>\n      <td>219504</td>\n      <td>2023-03-19</td>\n      <td>2023-04-07</td>\n      <td>19</td>\n      <td>1</td>\n      <td>0</td>\n      <td>2023-03-04</td>\n      <td>15.0</td>\n      <td>5.0</td>\n    </tr>\n    <tr>\n      <th>95417</th>\n      <td>219504</td>\n      <td>2023-04-12</td>\n      <td>2023-04-22</td>\n      <td>10</td>\n      <td>0</td>\n      <td>1</td>\n      <td>2023-04-07</td>\n      <td>5.0</td>\n      <td>11.0</td>\n    </tr>\n    <tr>\n      <th>95418</th>\n      <td>219504</td>\n      <td>2023-05-03</td>\n      <td>2023-05-15</td>\n      <td>12</td>\n      <td>0</td>\n      <td>0</td>\n      <td>2023-04-22</td>\n      <td>11.0</td>\n      <td>10.0</td>\n    </tr>\n    <tr>\n      <th>95419</th>\n      <td>219504</td>\n      <td>2023-05-25</td>\n      <td>2023-06-13</td>\n      <td>19</td>\n      <td>0</td>\n      <td>0</td>\n      <td>2023-05-15</td>\n      <td>10.0</td>\n      <td>7.0</td>\n    </tr>\n    <tr>\n      <th>95420</th>\n      <td>219504</td>\n      <td>2023-06-20</td>\n      <td>2023-06-29</td>\n      <td>9</td>\n      <td>0</td>\n      <td>0</td>\n      <td>2023-06-13</td>\n      <td>7.0</td>\n      <td>20.0</td>\n    </tr>\n    <tr>\n      <th>95421</th>\n      <td>219504</td>\n      <td>2023-07-19</td>\n      <td>2023-08-05</td>\n      <td>17</td>\n      <td>0</td>\n      <td>1</td>\n      <td>2023-06-29</td>\n      <td>20.0</td>\n      <td>17.0</td>\n    </tr>\n    <tr>\n      <th>95422</th>\n      <td>219504</td>\n      <td>2023-08-22</td>\n      <td>2023-09-01</td>\n      <td>10</td>\n      <td>0</td>\n      <td>0</td>\n      <td>2023-08-05</td>\n      <td>17.0</td>\n      <td>15.0</td>\n    </tr>\n    <tr>\n      <th>95423</th>\n      <td>219504</td>\n      <td>2023-09-16</td>\n      <td>2023-09-22</td>\n      <td>6</td>\n      <td>1</td>\n      <td>0</td>\n      <td>2023-09-01</td>\n      <td>15.0</td>\n      <td>17.0</td>\n    </tr>\n    <tr>\n      <th>95424</th>\n      <td>219504</td>\n      <td>2023-10-09</td>\n      <td>2023-10-15</td>\n      <td>6</td>\n      <td>0</td>\n      <td>1</td>\n      <td>2023-09-22</td>\n      <td>17.0</td>\n      <td>16.0</td>\n    </tr>\n    <tr>\n      <th>95425</th>\n      <td>219504</td>\n      <td>2023-10-31</td>\n      <td>2023-11-18</td>\n      <td>18</td>\n      <td>0</td>\n      <td>1</td>\n      <td>2023-10-15</td>\n      <td>16.0</td>\n      <td>5.0</td>\n    </tr>\n    <tr>\n      <th>95426</th>\n      <td>219504</td>\n      <td>2023-11-23</td>\n      <td>2023-12-08</td>\n      <td>15</td>\n      <td>0</td>\n      <td>0</td>\n      <td>2023-11-18</td>\n      <td>5.0</td>\n      <td>15.0</td>\n    </tr>\n    <tr>\n      <th>95427</th>\n      <td>219504</td>\n      <td>2023-12-23</td>\n      <td>2024-01-05</td>\n      <td>13</td>\n      <td>1</td>\n      <td>0</td>\n      <td>2023-12-08</td>\n      <td>15.0</td>\n      <td>11.0</td>\n    </tr>\n    <tr>\n      <th>95428</th>\n      <td>219504</td>\n      <td>2024-01-16</td>\n      <td>2024-01-23</td>\n      <td>7</td>\n      <td>0</td>\n      <td>0</td>\n      <td>2024-01-05</td>\n      <td>11.0</td>\n      <td>20.0</td>\n    </tr>\n    <tr>\n      <th>95429</th>\n      <td>219504</td>\n      <td>2024-02-12</td>\n      <td>2024-02-17</td>\n      <td>5</td>\n      <td>0</td>\n      <td>1</td>\n      <td>2024-01-23</td>\n      <td>20.0</td>\n      <td>28.0</td>\n    </tr>\n    <tr>\n      <th>95430</th>\n      <td>219504</td>\n      <td>2024-03-16</td>\n      <td>2024-03-27</td>\n      <td>11</td>\n      <td>1</td>\n      <td>0</td>\n      <td>2024-02-17</td>\n      <td>28.0</td>\n      <td>14.0</td>\n    </tr>\n    <tr>\n      <th>95431</th>\n      <td>219504</td>\n      <td>2024-04-10</td>\n      <td>2024-04-19</td>\n      <td>9</td>\n      <td>0</td>\n      <td>0</td>\n      <td>2024-03-27</td>\n      <td>14.0</td>\n      <td>22.0</td>\n    </tr>\n    <tr>\n      <th>95432</th>\n      <td>219504</td>\n      <td>2024-05-11</td>\n      <td>2024-05-30</td>\n      <td>19</td>\n      <td>1</td>\n      <td>0</td>\n      <td>2024-04-19</td>\n      <td>22.0</td>\n      <td>8.0</td>\n    </tr>\n    <tr>\n      <th>95433</th>\n      <td>219504</td>\n      <td>2024-06-07</td>\n      <td>2024-06-17</td>\n      <td>10</td>\n      <td>0</td>\n      <td>0</td>\n      <td>2024-05-30</td>\n      <td>8.0</td>\n      <td>18.0</td>\n    </tr>\n    <tr>\n      <th>95434</th>\n      <td>219504</td>\n      <td>2024-07-05</td>\n      <td>2024-07-22</td>\n      <td>17</td>\n      <td>0</td>\n      <td>0</td>\n      <td>2024-06-17</td>\n      <td>18.0</td>\n      <td>11.0</td>\n    </tr>\n    <tr>\n      <th>95435</th>\n      <td>219504</td>\n      <td>2024-08-02</td>\n      <td>2024-08-21</td>\n      <td>19</td>\n      <td>0</td>\n      <td>0</td>\n      <td>2024-07-22</td>\n      <td>11.0</td>\n      <td>6.0</td>\n    </tr>\n    <tr>\n      <th>95436</th>\n      <td>219504</td>\n      <td>2024-08-27</td>\n      <td>2024-09-02</td>\n      <td>6</td>\n      <td>0</td>\n      <td>0</td>\n      <td>2024-08-21</td>\n      <td>6.0</td>\n      <td>18.0</td>\n    </tr>\n    <tr>\n      <th>95437</th>\n      <td>219504</td>\n      <td>2024-09-20</td>\n      <td>2024-09-26</td>\n      <td>6</td>\n      <td>0</td>\n      <td>0</td>\n      <td>2024-09-02</td>\n      <td>18.0</td>\n      <td>25.0</td>\n    </tr>\n    <tr>\n      <th>95438</th>\n      <td>219504</td>\n      <td>2024-10-21</td>\n      <td>2024-10-26</td>\n      <td>5</td>\n      <td>0</td>\n      <td>1</td>\n      <td>2024-09-26</td>\n      <td>25.0</td>\n      <td>24.0</td>\n    </tr>\n    <tr>\n      <th>95439</th>\n      <td>219504</td>\n      <td>2024-11-19</td>\n      <td>2024-11-27</td>\n      <td>8</td>\n      <td>0</td>\n      <td>0</td>\n      <td>2024-10-26</td>\n      <td>24.0</td>\n      <td>16.0</td>\n    </tr>\n  </tbody>\n</table>\n</div>"
     },
     "execution_count": 498,
     "metadata": {},
     "output_type": "execute_result"
    }
   ],
   "source": [
    "df[df['USER_ID'] == random_user]"
   ],
   "metadata": {
    "collapsed": false,
    "ExecuteTime": {
     "end_time": "2023-08-24T01:44:09.769250Z",
     "start_time": "2023-08-24T01:44:09.760063Z"
    }
   },
   "id": "e507197a512c9cd3"
  },
  {
   "cell_type": "code",
   "execution_count": 499,
   "outputs": [
    {
     "data": {
      "text/plain": "USER_ID                               219504\nSTART_TIME               2024-11-19 00:00:00\nEND_TIME                 2024-11-27 00:00:00\nDURATION_DAYS                              8\nSTART_TIME_DAY_TYPE                        0\nEND_TIME_DAY_TYPE                          0\nPREV_CYCLE_END_TIME      2024-10-26 00:00:00\nDAYS_SINCE_LAST_CYCLE                   24.0\nGAP_TO_NEXT                             16.0\nName: 95439, dtype: object"
     },
     "execution_count": 499,
     "metadata": {},
     "output_type": "execute_result"
    }
   ],
   "source": [
    "df[df['USER_ID'] == random_user].iloc[-1]"
   ],
   "metadata": {
    "collapsed": false,
    "ExecuteTime": {
     "end_time": "2023-08-24T01:44:09.772742Z",
     "start_time": "2023-08-24T01:44:09.768204Z"
    }
   },
   "id": "80417d8a79ddac3f"
  },
  {
   "cell_type": "code",
   "execution_count": 500,
   "outputs": [
    {
     "name": "stdout",
     "output_type": "stream",
     "text": [
      "Predicted start date of the next cycle for user 219504: 2024-12-16\n"
     ]
    },
    {
     "name": "stderr",
     "output_type": "stream",
     "text": [
      "/Users/alexanderbrunner/Desktop/Projects/menstrual-cycles/lib/python3.9/site-packages/sklearn/base.py:464: UserWarning: X does not have valid feature names, but GradientBoostingRegressor was fitted with feature names\n",
      "  warnings.warn(\n"
     ]
    }
   ],
   "source": [
    "user_id = random_user  # Replace with the desired user's ID\n",
    "predicted_date = predict_next_cycle_start(user_id, model_path, df)\n",
    "print(f\"Predicted start date of the next cycle for user {user_id}: {predicted_date.date()}\")"
   ],
   "metadata": {
    "collapsed": false,
    "ExecuteTime": {
     "end_time": "2023-08-24T01:44:09.789722Z",
     "start_time": "2023-08-24T01:44:09.772101Z"
    }
   },
   "id": "334a43f02676c289"
  },
  {
   "cell_type": "code",
   "execution_count": 501,
   "outputs": [],
   "source": [
    "# Save dataframe\n",
    "df.to_csv('data/users.csv', encoding='utf-8', index=False)"
   ],
   "metadata": {
    "collapsed": false,
    "ExecuteTime": {
     "end_time": "2023-08-24T01:44:10.494257Z",
     "start_time": "2023-08-24T01:44:09.777803Z"
    }
   },
   "id": "eb52a312e3d2676a"
  }
 ],
 "metadata": {
  "kernelspec": {
   "display_name": "Python 3",
   "language": "python",
   "name": "python3"
  },
  "language_info": {
   "codemirror_mode": {
    "name": "ipython",
    "version": 2
   },
   "file_extension": ".py",
   "mimetype": "text/x-python",
   "name": "python",
   "nbconvert_exporter": "python",
   "pygments_lexer": "ipython2",
   "version": "2.7.6"
  }
 },
 "nbformat": 4,
 "nbformat_minor": 5
}
